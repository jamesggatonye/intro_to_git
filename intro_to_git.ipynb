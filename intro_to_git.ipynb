{
 "cells": [
  {
   "cell_type": "code",
   "execution_count": 2,
   "id": "f044a1dd-bc14-4680-9a85-b63b90c99c27",
   "metadata": {},
   "outputs": [
    {
     "name": "stdin",
     "output_type": "stream",
     "text": [
      "enter text the dog ate the cat and then the cat ate the dog\n"
     ]
    },
    {
     "name": "stdout",
     "output_type": "stream",
     "text": [
      "{'the': 4, 'dog': 2, 'ate': 2, 'cat': 2, 'and': 1, 'then': 1}\n"
     ]
    }
   ],
   "source": [
    "def main ():\n",
    "    words= input(\"enter text\").split()\n",
    "    word_frequencies={}\n",
    "    for word in words:\n",
    "        word_frequencies[word]=word_frequencies.get (word,0)+1\n",
    "        \n",
    "    print (word_frequencies)\n",
    "\n",
    "if __name__==\"__main__\":\n",
    "    \n",
    "    main()"
   ]
  },
  {
   "cell_type": "code",
   "execution_count": null,
   "id": "6099cc92-4129-4064-9b8c-943fd53d5d1f",
   "metadata": {},
   "outputs": [],
   "source": []
  }
 ],
 "metadata": {
  "kernelspec": {
   "display_name": "Python 3 (ipykernel)",
   "language": "python",
   "name": "python3"
  },
  "language_info": {
   "codemirror_mode": {
    "name": "ipython",
    "version": 3
   },
   "file_extension": ".py",
   "mimetype": "text/x-python",
   "name": "python",
   "nbconvert_exporter": "python",
   "pygments_lexer": "ipython3",
   "version": "3.12.7"
  }
 },
 "nbformat": 4,
 "nbformat_minor": 5
}
